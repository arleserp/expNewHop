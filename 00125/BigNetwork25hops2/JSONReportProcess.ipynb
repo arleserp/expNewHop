{
 "cells": [
  {
   "cell_type": "code",
   "execution_count": 6,
   "metadata": {},
   "outputs": [],
   "source": [
    "import json\n",
    "import seaborn as sns \n",
    "import pprint as pp\n",
    "import pandas as pd\n",
    "import numpy as np\n",
    "import matplotlib.pyplot as plt\n",
    "import statistics"
   ]
  },
  {
   "cell_type": "code",
   "execution_count": 7,
   "metadata": {},
   "outputs": [],
   "source": [
    "from sklearn.linear_model import LinearRegression"
   ]
  },
  {
   "cell_type": "code",
   "execution_count": 8,
   "metadata": {},
   "outputs": [],
   "source": [
    "def get_network_name(name):\n",
    "    if \"e+2304+v+512\" in name:\n",
    "        return \"hypercube\"\n",
    "    if \"e+51+v+27\" in name:\n",
    "        return \"sun\"    \n",
    "    if \"e+15+v+14\" in name:\n",
    "        return \"microservices\"\n",
    "    if \"e+1273+v+512\" in name:\n",
    "        return \"AS\"\n",
    "    if \"spokecommunitycircle\" in name:  \n",
    "        return \"spoke community\"\n",
    "    if \"communitycircle\" in name:  \n",
    "        return \"community\"\n",
    "    if \"circle\" in name:  \n",
    "        return \"circle\"\n",
    "    if \"foresthubandspoke\" in name:\n",
    "        return \"forest hub & spoke\"\n",
    "    if \"longforesthubandspoke\" in name:\n",
    "        return \"long forest hub & spoke\"\n",
    "    if \"hubandspoke\" in name:\n",
    "        return \"hub & spoke\"\n",
    "    if \"scalefree\" in name:\n",
    "        return \"scalefree\"\n",
    "    if \"smallworld\" in name:\n",
    "        return \"smallworld\"\n",
    "    "
   ]
  },
  {
   "cell_type": "code",
   "execution_count": 9,
   "metadata": {},
   "outputs": [],
   "source": [
    "def gen_graph(roundData, maxIter, cat, network, pf):\n",
    "    x = list(range(maxIter))\n",
    "    avgs = []\n",
    "    medians = []\n",
    "    stdev = []\n",
    "    difsmax = []\n",
    "    difsmin = []\n",
    "    for k in roundData.keys():   \n",
    "        lst = roundData[k]\n",
    "        avg = sum(lst) / len(lst)\n",
    "        med = statistics.median(lst)\n",
    "        medians.append(med)\n",
    "        avgs.append(avg)\n",
    "        var = sum((x-avg)**2 for x in lst) / len(lst)\n",
    "        std = var**0.5\n",
    "        difsmin.append(avg +std)\n",
    "        difsmax.append(avg-std)\n",
    "        stdev.append(stdev)\n",
    "    fig, ax = plt.subplots()\n",
    "    ax.plot(x, avgs, '-')\n",
    "    plt.ylim(0, 1)\n",
    "    ax.fill_between(x, difsmin, difsmax, alpha=0.2)\n",
    "    ax.set_xlabel('round number')  # Add an x-label to the axes.\n",
    "    ax.set_ylabel(cat)  # Add a y-label to the axes.\n",
    "    ax.set_title(network + \" pf=\" + pf)  # Add a title to the axes.\n",
    "    #ax.legend()  # Add a legend.\n",
    "    \n",
    "    \n",
    "def load_JSON(cat):\n",
    "    folder = './jsonDataReport'\n",
    "    roundData = {}\n",
    "    import os    \n",
    "    files = os.listdir(folder)\n",
    "    for fname in files:\n",
    "        with open(folder+'/'+fname, \"r\") as f:\n",
    "            data = json.load(f)            \n",
    "        network = get_network_name(fname)\n",
    "        maxIter = int(data['maxIter'][0])\n",
    "        pf = str(data['pf'][0])\n",
    "        nhopsPrune = int(data['nhopsPrune'][0])        \n",
    "        for i in range(maxIter):            \n",
    "             df = pd.DataFrame(data[str(i)].values())             \n",
    "             if i not in roundData:               \n",
    "                 roundData[i] = []                    \n",
    "             roundData[i].extend(df[cat].tolist())            \n",
    "    return maxIter, roundData, network, pf\n",
    "\n",
    "    \n",
    "def load_JSON2(cat, prefix):\n",
    "    folder = './jsonDataReport'\n",
    "    roundData = {}\n",
    "    import os    \n",
    "    files = os.listdir(folder)\n",
    "    for fname in files:\n",
    "        if(prefix in fname):\n",
    "            print(\"ntra\")\n",
    "            with open(folder+'/'+fname, \"r\") as f:\n",
    "                data = json.load(f)            \n",
    "            network = get_network_name(fname)\n",
    "            maxIter = int(data['maxIter'][0])\n",
    "            pf = str(data['pf'][0])\n",
    "            nhopsPrune = int(data['nhopsPrune'][0])        \n",
    "            for i in range(maxIter):            \n",
    "                 df = pd.DataFrame(data[str(i)].values())             \n",
    "                 if i not in roundData:               \n",
    "                     roundData[i] = []                    \n",
    "                 roundData[i].extend(df[cat].tolist())            \n",
    "    return maxIter, roundData, network, pf"
   ]
  },
  {
   "cell_type": "code",
   "execution_count": 10,
   "metadata": {},
   "outputs": [
    {
     "data": {
      "image/png": "[encoded data removed]",
      "text/plain": [
       "<Figure size 432x288 with 1 Axes>"
      ]
     },
     "metadata": {
      "needs_background": "light"
     },
     "output_type": "display_data"
    }
   ],
   "source": [
    "cat = 'percinfo'\n",
    "maxIter, roundData, network, pf = load_JSON(cat)\n",
    "gen_graph(roundData, maxIter, cat, network, pf)"
   ]
  },
  {
   "cell_type": "code",
   "execution_count": 11,
   "metadata": {},
   "outputs": [
    {
     "data": {
      "image/png": "[encoded data removed]",
      "text/plain": [
       "<Figure size 432x288 with 1 Axes>"
      ]
     },
     "metadata": {
      "needs_background": "light"
     },
     "output_type": "display_data"
    }
   ],
   "source": [
    "cat = 'percinfohop'\n",
    "maxIter, roundData, network, pf = load_JSON(cat)\n",
    "gen_graph(roundData, maxIter, cat, network, pf)"
   ]
  },
  {
   "cell_type": "code",
   "execution_count": 13,
   "metadata": {},
   "outputs": [
    {
     "name": "stdout",
     "output_type": "stream",
     "text": [
      "ntra\n"
     ]
    },
    {
     "data": {
      "image/png": "[encoded data removed]",
      "text/plain": [
       "<Figure size 432x288 with 1 Axes>"
      ]
     },
     "metadata": {
      "needs_background": "light"
     },
     "output_type": "display_data"
    }
   ],
   "source": [
    "#a way to predict which node is going to fail\n",
    "# have a counter of nodes that have info about a node\n",
    "# evaluate betweeness centrality at each step see if we can associate probability of failure in runtime\n",
    "# statistic analysis\n",
    "#number of hops vs some network metric to kwon which information is going to be synch fast\n",
    "cat = 'percinfohop'\n",
    "maxIter, roundData, network, pf = load_JSON2(cat, \"20211005151602\")\n",
    "gen_graph(roundData, maxIter, cat, network, pf)"
   ]
  },
  {
   "cell_type": "code",
   "execution_count": 14,
   "metadata": {},
   "outputs": [
    {
     "name": "stdout",
     "output_type": "stream",
     "text": [
      "ntra\n"
     ]
    },
    {
     "data": {
      "image/png": "[encoded data removed]",
      "text/plain": [
       "<Figure size 432x288 with 1 Axes>"
      ]
     },
     "metadata": {
      "needs_background": "light"
     },
     "output_type": "display_data"
    }
   ],
   "source": [
    "cat = 'percinfo'\n",
    "maxIter, roundData, network, pf = load_JSON2(cat, \"20211005151602\")\n",
    "gen_graph(roundData, maxIter, cat, network, pf)"
   ]
  },
  {
   "cell_type": "code",
   "execution_count": 34,
   "metadata": {},
   "outputs": [
    {
     "name": "stdout",
     "output_type": "stream",
     "text": [
      "processing...exp+ps+0+pf+0.125+mode+carriersrep+maxIter+50+e+15+v+14+load+replalgon+NODELAY+nhopsinfo+redFactor+3+20211005151602+jsonDataReport.json\n",
      "[4, 4, 4, 4, 4, 4, 2, 0, 0, 0, 0, 0, 0, 0, 0, 0, 0, 0, 0, 0, 0, 0, 0, 0, 0, 0, 0, 0, 0, 0, 0, 0, 0, 0, 0, 0, 0, 0, 0, 0, 0, 0, 0, 0, 0, 0, 0, 0, 0, 0]\n"
     ]
    },
    {
     "data": {
      "image/png": "[encoded data removed]",
      "text/plain": [
       "<Figure size 432x288 with 1 Axes>"
      ]
     },
     "metadata": {
      "needs_background": "light"
     },
     "output_type": "display_data"
    }
   ],
   "source": [
    "import os\n",
    "\n",
    "def gen_graph(roundData, maxIter, cat, network, pf):\n",
    "    x = list(range(maxIter))\n",
    "    avgs = []\n",
    "    medians = []\n",
    "    stdev = []\n",
    "    difsmax = []\n",
    "    difsmin = []\n",
    "    '''\n",
    "    for k in roundData.keys():   \n",
    "        lst = roundData[k]\n",
    "        avg = sum(lst) / len(lst)\n",
    "        med = statistics.median(lst)\n",
    "        medians.append(med)\n",
    "        avgs.append(avg)\n",
    "        var = sum((x-avg)**2 for x in lst) / len(lst)\n",
    "        std = var**0.5\n",
    "        difsmin.append(avg +std)\n",
    "        difsmax.append(avg-std)\n",
    "        stdev.append(stdev)\n",
    "    '''\n",
    "    fig, ax = plt.subplots()\n",
    "    ax.plot(x, roundData, '-')\n",
    "    #plt.ylim(0, 1)\n",
    "    #ax.fill_between(x, difsmin, difsmax, alpha=0.2)\n",
    "    ax.set_xlabel('round number')  # Add an x-label to the axes.\n",
    "    ax.set_ylabel(cat)  # Add a y-label to the axes.\n",
    "    ax.set_title(network + \" pf=\" + pf)  # Add a title to the axes.\n",
    "    #ax.legend()  # Add a legend.\n",
    "\n",
    "def load_JSON3(cat, prefix, id_node):\n",
    "    folder = './jsonDataReport'\n",
    "    roundData = {} \n",
    "    lvals = []\n",
    "    files = os.listdir(folder)\n",
    "    for fname in files:\n",
    "        if(prefix in fname):\n",
    "            print(\"processing...\" + fname)\n",
    "            with open(folder+'/'+fname, \"r\") as f:\n",
    "                data = json.load(f)            \n",
    "            network = get_network_name(fname)\n",
    "            maxIter = int(data['maxIter'][0])\n",
    "            pf = str(data['pf'][0])\n",
    "            nhopsPrune = int(data['nhopsPrune'][0])        \n",
    "            for i in range(maxIter):    \n",
    "                if id_node in data[str(i)]:\n",
    "                    #print(i, data[str(i)][id_node])\n",
    "                    lvals.append(data[str(i)][id_node][\"nneighWithNodeInfo\"])\n",
    "                else:\n",
    "                    lvals.append(0)\n",
    "    print(lvals)\n",
    "    return maxIter, lvals, network, pf\n",
    "\n",
    "'''\n",
    "queue-master\n",
    "'''\n",
    "cat = 'nneighWithNodeInfo'\n",
    "maxIter, roundData, network, pf = load_JSON3(cat, \"20211005151602\", 'queue-master')\n",
    "gen_graph(roundData, maxIter, cat, network, pf)"
   ]
  },
  {
   "cell_type": "code",
   "execution_count": 49,
   "metadata": {},
   "outputs": [
    {
     "name": "stdout",
     "output_type": "stream",
     "text": [
      "processing...exp+ps+0+pf+0.125+mode+carriersrep+maxIter+50+e+15+v+14+load+replalgon+NODELAY+nhopsinfo+redFactor+3+20211005151602+jsonDataReport.json\n",
      "{'catalogue-db': 7, 'front_end': 13, 'carts-db': 10, 'rabbitmq': 9, 'catalogue': 12, 'orders-db': 12, 'queue-master': 4, 'router': 12, 'carts': 13, 'shipping': 13, 'payment': 12, 'orders': 14, 'user-db': 10, 'user': 13}\n"
     ]
    },
    {
     "data": {
      "text/plain": [
       "[('queue-master', 4),\n",
       " ('catalogue-db', 7),\n",
       " ('rabbitmq', 9),\n",
       " ('carts-db', 10),\n",
       " ('user-db', 10),\n",
       " ('catalogue', 12),\n",
       " ('orders-db', 12),\n",
       " ('router', 12),\n",
       " ('payment', 12),\n",
       " ('front_end', 13),\n",
       " ('carts', 13),\n",
       " ('shipping', 13),\n",
       " ('user', 13),\n",
       " ('orders', 14)]"
      ]
     },
     "execution_count": 49,
     "metadata": {},
     "output_type": "execute_result"
    }
   ],
   "source": [
    "def get_initial_info(cat, prefix):\n",
    "    folder = './jsonDataReport'\n",
    "    roundData = {} \n",
    "    lvals = {}\n",
    "    files = os.listdir(folder)\n",
    "    for fname in files:\n",
    "        if(prefix in fname):\n",
    "            print(\"processing...\" + fname)\n",
    "            with open(folder+'/'+fname, \"r\") as f:\n",
    "                data = json.load(f)            \n",
    "            network = get_network_name(fname)\n",
    "            maxIter = int(data['maxIter'][0])\n",
    "            pf = str(data['pf'][0])\n",
    "            nhopsPrune = int(data['nhopsPrune'][0])                            \n",
    "            #print(i, data[str(i)][id_node])\n",
    "            for id_node in data[str(0)].keys():\n",
    "                lvals[id_node] = data[str(0)][id_node][\"nneighWithNodeInfo\"];\n",
    "            \n",
    "    print(lvals)\n",
    "    return lvals\n",
    "    #return maxIter, lvals, network, pf\n",
    "\n",
    "\n",
    "res = get_initial_info(cat, \"20211005151602\")\n",
    "li =[(k, v) for k, v in res.items()]\n",
    "sorted(li, key=lambda data: data[1])"
   ]
  },
  {
   "cell_type": "code",
   "execution_count": 50,
   "metadata": {},
   "outputs": [
    {
     "data": {
      "text/html": [
       "<div>\n",
       "<style scoped>\n",
       "    .dataframe tbody tr th:only-of-type {\n",
       "        vertical-align: middle;\n",
       "    }\n",
       "\n",
       "    .dataframe tbody tr th {\n",
       "        vertical-align: top;\n",
       "    }\n",
       "\n",
       "    .dataframe thead th {\n",
       "        text-align: right;\n",
       "    }\n",
       "</style>\n",
       "<table border=\"1\" class=\"dataframe\">\n",
       "  <thead>\n",
       "    <tr style=\"text-align: right;\">\n",
       "      <th></th>\n",
       "      <th>percinfo</th>\n",
       "      <th>nneignhops</th>\n",
       "      <th>sizeinfo</th>\n",
       "      <th>version</th>\n",
       "      <th>nneighWithNodeInfo</th>\n",
       "      <th>status</th>\n",
       "      <th>percinfohop</th>\n",
       "    </tr>\n",
       "  </thead>\n",
       "  <tbody>\n",
       "    <tr>\n",
       "      <th>0</th>\n",
       "      <td>0.500000</td>\n",
       "      <td>7</td>\n",
       "      <td>7</td>\n",
       "      <td>1</td>\n",
       "      <td>7</td>\n",
       "      <td>alive</td>\n",
       "      <td>1.000000</td>\n",
       "    </tr>\n",
       "    <tr>\n",
       "      <th>1</th>\n",
       "      <td>0.928571</td>\n",
       "      <td>13</td>\n",
       "      <td>13</td>\n",
       "      <td>2</td>\n",
       "      <td>13</td>\n",
       "      <td>alive</td>\n",
       "      <td>1.000000</td>\n",
       "    </tr>\n",
       "    <tr>\n",
       "      <th>2</th>\n",
       "      <td>0.714286</td>\n",
       "      <td>10</td>\n",
       "      <td>10</td>\n",
       "      <td>2</td>\n",
       "      <td>10</td>\n",
       "      <td>alive</td>\n",
       "      <td>1.000000</td>\n",
       "    </tr>\n",
       "    <tr>\n",
       "      <th>3</th>\n",
       "      <td>0.571429</td>\n",
       "      <td>9</td>\n",
       "      <td>8</td>\n",
       "      <td>4</td>\n",
       "      <td>8</td>\n",
       "      <td>alive</td>\n",
       "      <td>0.888889</td>\n",
       "    </tr>\n",
       "    <tr>\n",
       "      <th>4</th>\n",
       "      <td>0.857143</td>\n",
       "      <td>12</td>\n",
       "      <td>12</td>\n",
       "      <td>4</td>\n",
       "      <td>12</td>\n",
       "      <td>alive</td>\n",
       "      <td>1.000000</td>\n",
       "    </tr>\n",
       "  </tbody>\n",
       "</table>\n",
       "</div>"
      ],
      "text/plain": [
       "   percinfo  nneignhops  sizeinfo  version  nneighWithNodeInfo status  \\\n",
       "0  0.500000           7         7        1                   7  alive   \n",
       "1  0.928571          13        13        2                  13  alive   \n",
       "2  0.714286          10        10        2                  10  alive   \n",
       "3  0.571429           9         8        4                   8  alive   \n",
       "4  0.857143          12        12        4                  12  alive   \n",
       "\n",
       "   percinfohop  \n",
       "0     1.000000  \n",
       "1     1.000000  \n",
       "2     1.000000  \n",
       "3     0.888889  \n",
       "4     1.000000  "
      ]
     },
     "execution_count": 50,
     "metadata": {},
     "output_type": "execute_result"
    }
   ],
   "source": [
    "\n",
    "folder = './jsonDataReport'\n",
    "fname = \"exp+ps+0+pf+0.125+mode+carriersrep+maxIter+50+e+15+v+14+load+replalgon+NODELAY+nhopsinfo+redFactor+3+20211005151602+jsonDataReport.json\"\n",
    "with open(folder+'/'+fname, \"r\") as f:\n",
    "    data = json.load(f)\n",
    "df = pd.DataFrame(data[str(14)].values())   \n",
    "df.head()"
   ]
  },
  {
   "cell_type": "code",
   "execution_count": 20,
   "metadata": {},
   "outputs": [
    {
     "data": {
      "text/plain": [
       "alive     13\n",
       "failed     1\n",
       "Name: status, dtype: int64"
      ]
     },
     "execution_count": 20,
     "metadata": {},
     "output_type": "execute_result"
    }
   ],
   "source": [
    "df['status'].value_counts()"
   ]
  },
  {
   "cell_type": "code",
   "execution_count": 23,
   "metadata": {},
   "outputs": [
    {
     "data": {
      "text/plain": [
       "dict_keys(['44', '45', '46', '47', '48', '49', '10', '11', '12', '13', '14', '15', '16', '17', '18', '19', '0', '1', '2', '3', '4', '5', '6', '7', '8', '9', '20', '21', 'nhopsPrune', '22', '23', '24', '25', '26', '27', '28', '29', 'maxIter', '30', '31', '32', '33', '34', '35', '36', '37', '38', '39', 'pf', '40', '41', '42', '43'])"
      ]
     },
     "execution_count": 23,
     "metadata": {},
     "output_type": "execute_result"
    }
   ],
   "source": [
    "data.keys()"
   ]
  },
  {
   "cell_type": "markdown",
   "metadata": {},
   "source": [
    "## Dataframe creation"
   ]
  },
  {
   "cell_type": "code",
   "execution_count": 22,
   "metadata": {},
   "outputs": [],
   "source": [
    "experiment_events = []\n",
    "for round_number, round_info in data.items():\n",
    "    try:\n",
    "        for node_number, node_info in round_info.items():\n",
    "            event_info = {\n",
    "                'roundNumber': int(round_number),\n",
    "                'nodeNumber': node_number\n",
    "            }\n",
    "            event_info.update(node_info)\n",
    "            experiment_events.append(event_info)\n",
    "    except:\n",
    "        continue"
   ]
  },
  {
   "cell_type": "code",
   "execution_count": 24,
   "metadata": {},
   "outputs": [
    {
     "data": {
      "text/html": [
       "<div>\n",
       "<style scoped>\n",
       "    .dataframe tbody tr th:only-of-type {\n",
       "        vertical-align: middle;\n",
       "    }\n",
       "\n",
       "    .dataframe tbody tr th {\n",
       "        vertical-align: top;\n",
       "    }\n",
       "\n",
       "    .dataframe thead th {\n",
       "        text-align: right;\n",
       "    }\n",
       "</style>\n",
       "<table border=\"1\" class=\"dataframe\">\n",
       "  <thead>\n",
       "    <tr style=\"text-align: right;\">\n",
       "      <th></th>\n",
       "      <th>roundNumber</th>\n",
       "      <th>nodeNumber</th>\n",
       "      <th>percinfo</th>\n",
       "      <th>nneignhops</th>\n",
       "      <th>sizeinfo</th>\n",
       "      <th>version</th>\n",
       "      <th>nneighWithNodeInfo</th>\n",
       "      <th>status</th>\n",
       "      <th>percinfohop</th>\n",
       "    </tr>\n",
       "  </thead>\n",
       "  <tbody>\n",
       "    <tr>\n",
       "      <th>224</th>\n",
       "      <td>0</td>\n",
       "      <td>catalogue-db</td>\n",
       "      <td>0.5</td>\n",
       "      <td>7</td>\n",
       "      <td>7</td>\n",
       "      <td>1</td>\n",
       "      <td>7</td>\n",
       "      <td>alive</td>\n",
       "      <td>1.0</td>\n",
       "    </tr>\n",
       "  </tbody>\n",
       "</table>\n",
       "</div>"
      ],
      "text/plain": [
       "     roundNumber    nodeNumber  percinfo  nneignhops  sizeinfo  version  \\\n",
       "224            0  catalogue-db       0.5           7         7        1   \n",
       "\n",
       "     nneighWithNodeInfo status  percinfohop  \n",
       "224                   7  alive          1.0  "
      ]
     },
     "execution_count": 24,
     "metadata": {},
     "output_type": "execute_result"
    }
   ],
   "source": [
    "df_flattened_exp = pd.DataFrame(experiment_events)\n",
    "df_flattened_exp.sort_values('roundNumber', inplace=True)\n",
    "df_flattened_exp.head(1)"
   ]
  },
  {
   "cell_type": "markdown",
   "metadata": {},
   "source": [
    "## Dataframe null check"
   ]
  },
  {
   "cell_type": "code",
   "execution_count": 25,
   "metadata": {},
   "outputs": [
    {
     "data": {
      "text/plain": [
       "roundNumber           0\n",
       "nodeNumber            0\n",
       "percinfo              0\n",
       "nneignhops            0\n",
       "sizeinfo              0\n",
       "version               0\n",
       "nneighWithNodeInfo    0\n",
       "status                0\n",
       "percinfohop           0\n",
       "dtype: int64"
      ]
     },
     "execution_count": 25,
     "metadata": {},
     "output_type": "execute_result"
    }
   ],
   "source": [
    "df_flattened_exp.isnull().sum()"
   ]
  },
  {
   "cell_type": "code",
   "execution_count": 51,
   "metadata": {},
   "outputs": [],
   "source": [
    "df_failing_node = df_flattened_exp[\n",
    "    df_flattened_exp['nodeNumber'] == 'queue-master'\n",
    "].copy(deep=True).sort_index()"
   ]
  },
  {
   "cell_type": "code",
   "execution_count": 52,
   "metadata": {},
   "outputs": [
    {
     "data": {
      "text/plain": [
       "<matplotlib.axes._subplots.AxesSubplot at 0x1479de41cf8>"
      ]
     },
     "execution_count": 52,
     "metadata": {},
     "output_type": "execute_result"
    },
    {
     "data": {
      "image/png": "[encoded data removed]",
      "text/plain": [
       "<Figure size 432x288 with 1 Axes>"
      ]
     },
     "metadata": {
      "needs_background": "light"
     },
     "output_type": "display_data"
    }
   ],
   "source": [
    "df_failing_node.set_index('roundNumber', inplace=True)\n",
    "df_failing_node.sort_index(inplace=True)\n",
    "df_failing_node['nneighWithNodeInfo'].plot()"
   ]
  },
  {
   "cell_type": "code",
   "execution_count": 53,
   "metadata": {},
   "outputs": [
    {
     "data": {
      "text/plain": [
       "{'percinfo': 0.2857142857142857,\n",
       " 'nneignhops': 4,\n",
       " 'sizeinfo': 4,\n",
       " 'version': 2,\n",
       " 'nneighWithNodeInfo': 4,\n",
       " 'status': 'alive',\n",
       " 'percinfohop': 1}"
      ]
     },
     "execution_count": 53,
     "metadata": {},
     "output_type": "execute_result"
    }
   ],
   "source": [
    "data['5']['queue-master']"
   ]
  },
  {
   "cell_type": "code",
   "execution_count": 54,
   "metadata": {},
   "outputs": [
    {
     "data": {
      "text/plain": [
       "<matplotlib.axes._subplots.AxesSubplot at 0x1479dfcc550>"
      ]
     },
     "execution_count": 54,
     "metadata": {},
     "output_type": "execute_result"
    },
    {
     "data": {
      "image/png": "[encoded data removed]",
      "text/plain": [
       "<Figure size 432x288 with 1 Axes>"
      ]
     },
     "metadata": {
      "needs_background": "light"
     },
     "output_type": "display_data"
    }
   ],
   "source": [
    "df_failing_node[['percinfohop', 'percinfo']].plot()"
   ]
  },
  {
   "cell_type": "markdown",
   "metadata": {},
   "source": [
    "## Nodes that have more rounds in failure state"
   ]
  },
  {
   "cell_type": "code",
   "execution_count": 29,
   "metadata": {},
   "outputs": [
    {
     "data": {
      "text/html": [
       "<div>\n",
       "<style scoped>\n",
       "    .dataframe tbody tr th:only-of-type {\n",
       "        vertical-align: middle;\n",
       "    }\n",
       "\n",
       "    .dataframe tbody tr th {\n",
       "        vertical-align: top;\n",
       "    }\n",
       "\n",
       "    .dataframe thead th {\n",
       "        text-align: right;\n",
       "    }\n",
       "</style>\n",
       "<table border=\"1\" class=\"dataframe\">\n",
       "  <thead>\n",
       "    <tr style=\"text-align: right;\">\n",
       "      <th></th>\n",
       "      <th>nodeNumber</th>\n",
       "    </tr>\n",
       "  </thead>\n",
       "  <tbody>\n",
       "    <tr>\n",
       "      <th>queue-master</th>\n",
       "      <td>44</td>\n",
       "    </tr>\n",
       "    <tr>\n",
       "      <th>orders-db</th>\n",
       "      <td>5</td>\n",
       "    </tr>\n",
       "    <tr>\n",
       "      <th>carts</th>\n",
       "      <td>5</td>\n",
       "    </tr>\n",
       "    <tr>\n",
       "      <th>user-db</th>\n",
       "      <td>4</td>\n",
       "    </tr>\n",
       "    <tr>\n",
       "      <th>carts-db</th>\n",
       "      <td>4</td>\n",
       "    </tr>\n",
       "    <tr>\n",
       "      <th>catalogue</th>\n",
       "      <td>4</td>\n",
       "    </tr>\n",
       "    <tr>\n",
       "      <th>shipping</th>\n",
       "      <td>3</td>\n",
       "    </tr>\n",
       "    <tr>\n",
       "      <th>rabbitmq</th>\n",
       "      <td>3</td>\n",
       "    </tr>\n",
       "    <tr>\n",
       "      <th>user</th>\n",
       "      <td>2</td>\n",
       "    </tr>\n",
       "    <tr>\n",
       "      <th>router</th>\n",
       "      <td>2</td>\n",
       "    </tr>\n",
       "    <tr>\n",
       "      <th>payment</th>\n",
       "      <td>1</td>\n",
       "    </tr>\n",
       "    <tr>\n",
       "      <th>front_end</th>\n",
       "      <td>1</td>\n",
       "    </tr>\n",
       "    <tr>\n",
       "      <th>catalogue-db</th>\n",
       "      <td>1</td>\n",
       "    </tr>\n",
       "  </tbody>\n",
       "</table>\n",
       "</div>"
      ],
      "text/plain": [
       "              nodeNumber\n",
       "queue-master          44\n",
       "orders-db              5\n",
       "carts                  5\n",
       "user-db                4\n",
       "carts-db               4\n",
       "catalogue              4\n",
       "shipping               3\n",
       "rabbitmq               3\n",
       "user                   2\n",
       "router                 2\n",
       "payment                1\n",
       "front_end              1\n",
       "catalogue-db           1"
      ]
     },
     "execution_count": 29,
     "metadata": {},
     "output_type": "execute_result"
    }
   ],
   "source": [
    "df_flattened_exp[df_flattened_exp['status'] == 'failed']['nodeNumber'].value_counts().to_frame()"
   ]
  },
  {
   "cell_type": "markdown",
   "metadata": {},
   "source": [
    "## Nombres de nodos que en la última ronda no estaban vivos"
   ]
  },
  {
   "cell_type": "code",
   "execution_count": 55,
   "metadata": {},
   "outputs": [
    {
     "data": {
      "text/plain": [
       "array(['queue-master'], dtype=object)"
      ]
     },
     "execution_count": 55,
     "metadata": {},
     "output_type": "execute_result"
    }
   ],
   "source": [
    "df_flattened_exp[\n",
    "    (df_flattened_exp['roundNumber'] == df_flattened_exp['roundNumber'].max()) &\n",
    "    (df_flattened_exp['status'] == 'failed')\n",
    "]['nodeNumber'].unique()"
   ]
  },
  {
   "cell_type": "markdown",
   "metadata": {},
   "source": [
    "## Nodes Version\n",
    "\n",
    "Each time that a node fails and it is recreated a new node version is added. "
   ]
  },
  {
   "cell_type": "code",
   "execution_count": 56,
   "metadata": {},
   "outputs": [
    {
     "data": {
      "text/plain": [
       "nodeNumber\n",
       "user-db         8\n",
       "orders-db       7\n",
       "carts           7\n",
       "shipping        6\n",
       "catalogue       6\n",
       "rabbitmq        5\n",
       "user            4\n",
       "router          4\n",
       "carts-db        4\n",
       "payment         3\n",
       "orders          3\n",
       "front_end       3\n",
       "queue-master    2\n",
       "catalogue-db    2\n",
       "Name: version, dtype: int64"
      ]
     },
     "execution_count": 56,
     "metadata": {},
     "output_type": "execute_result"
    }
   ],
   "source": [
    "df_flattened_exp.groupby('nodeNumber')['version'].max().sort_values(ascending=False)"
   ]
  },
  {
   "cell_type": "code",
   "execution_count": null,
   "metadata": {},
   "outputs": [],
   "source": []
  },
  {
   "cell_type": "code",
   "execution_count": null,
   "metadata": {},
   "outputs": [],
   "source": []
  },
  {
   "cell_type": "code",
   "execution_count": null,
   "metadata": {},
   "outputs": [],
   "source": []
  }
 ],
 "metadata": {
  "kernelspec": {
   "display_name": "Python 3",
   "language": "python",
   "name": "python3"
  },
  "language_info": {
   "codemirror_mode": {
    "name": "ipython",
    "version": 3
   },
   "file_extension": ".py",
   "mimetype": "text/x-python",
   "name": "python",
   "nbconvert_exporter": "python",
   "pygments_lexer": "ipython3",
   "version": "3.7.3"
  }
 },
 "nbformat": 4,
 "nbformat_minor": 4
}
