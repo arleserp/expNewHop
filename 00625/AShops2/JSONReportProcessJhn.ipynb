{
 "cells": [
  {
   "cell_type": "code",
   "execution_count": 1,
   "metadata": {},
   "outputs": [
    {
     "name": "stderr",
     "output_type": "stream",
     "text": [
      "C:\\ProgramData\\Anaconda3\\lib\\site-packages\\statsmodels\\tools\\_testing.py:19: FutureWarning: pandas.util.testing is deprecated. Use the functions in the public API at pandas.testing instead.\n",
      "  import pandas.util.testing as tm\n"
     ]
    }
   ],
   "source": [
    "import json\n",
    "import seaborn as sns \n",
    "import pprint as pp\n",
    "import pandas as pd\n",
    "import numpy as np\n",
    "import matplotlib.pyplot as plt\n",
    "import statistics"
   ]
  },
  {
   "cell_type": "code",
   "execution_count": 2,
   "metadata": {},
   "outputs": [],
   "source": [
    "from sklearn.linear_model import LinearRegression"
   ]
  },
  {
   "cell_type": "code",
   "execution_count": 2,
   "metadata": {},
   "outputs": [],
   "source": [
    "def get_network_name(name):\n",
    "    if \"e+2304+v+512\" in name:\n",
    "        return \"hypercube\"\n",
    "    if \"e+51+v+27\" in name:\n",
    "        return \"sun\"\n",
    "    if \"e+15+v+14\" in name:\n",
    "        return \"microservices\"\n",
    "    if \"e+1273+v+512\" in name:\n",
    "        return \"AS\"\n",
    "    if \"spokecommunitycircle\" in name:  \n",
    "        return \"spoke community\"\n",
    "    if \"communitycircle\" in name:  \n",
    "        return \"community\"\n",
    "    if \"circle\" in name:  \n",
    "        return \"circle\"\n",
    "    if \"foresthubandspoke\" in name:\n",
    "        return \"forest hub & spoke\"\n",
    "    if \"longforesthubandspoke\" in name:\n",
    "        return \"long forest hub & spoke\"\n",
    "    if \"hubandspoke\" in name:\n",
    "        return \"hub & spoke\"\n",
    "    if \"scalefree\" in name:\n",
    "        return \"scalefree\"\n",
    "    if \"smallworld\" in name:\n",
    "        return \"smallworld\"\n",
    "    "
   ]
  },
  {
   "cell_type": "code",
   "execution_count": 3,
   "metadata": {},
   "outputs": [],
   "source": [
    "def gen_graph(roundData, maxIter, cat, network, pf):\n",
    "    x = list(range(maxIter))\n",
    "    avgs = []\n",
    "    medians = []\n",
    "    stdev = []\n",
    "    difsmax = []\n",
    "    difsmin = []\n",
    "    for k in roundData.keys():   \n",
    "        lst = roundData[k]\n",
    "        avg = sum(lst) / len(lst)\n",
    "        med = statistics.median(lst)\n",
    "        medians.append(med)\n",
    "        avgs.append(avg)\n",
    "        var = sum((x-avg)**2 for x in lst) / len(lst)\n",
    "        std = var**0.5\n",
    "        difsmin.append(avg +std)\n",
    "        difsmax.append(avg-std)\n",
    "        stdev.append(stdev)\n",
    "    fig, ax = plt.subplots()\n",
    "    ax.plot(x, avgs, '-')\n",
    "    plt.ylim(0, 1)\n",
    "    ax.fill_between(x, difsmin, difsmax, alpha=0.2)\n",
    "    ax.set_xlabel('round number')  # Add an x-label to the axes.\n",
    "    ax.set_ylabel(cat)  # Add a y-label to the axes.\n",
    "    ax.set_title(network + \" pf=\" + pf)  # Add a title to the axes.\n",
    "    #ax.legend()  # Add a legend.\n",
    "    \n",
    "    \n",
    "def load_JSON(cat):\n",
    "    folder = './jsonDataReport'\n",
    "    roundData = {}\n",
    "    import os    \n",
    "    files = os.listdir(folder)\n",
    "    for fname in files:\n",
    "        with open(folder+'/'+fname, \"r\") as f:\n",
    "            data = json.load(f)            \n",
    "        network = get_network_name(fname)\n",
    "        maxIter = int(data['maxIter'][0])\n",
    "        pf = str(data['pf'][0])\n",
    "        nhopsPrune = int(data['nhopsPrune'][0])        \n",
    "        for i in range(maxIter):            \n",
    "             df = pd.DataFrame(data[str(i)].values())             \n",
    "             if i not in roundData:               \n",
    "                 roundData[i] = []                    \n",
    "             roundData[i].extend(df[cat].tolist())            \n",
    "    return maxIter, roundData, network, pf\n",
    "\n",
    "    \n",
    "def load_JSON2(cat, prefix):\n",
    "    folder = './jsonDataReport'\n",
    "    roundData = {}\n",
    "    import os    \n",
    "    files = os.listdir(folder)\n",
    "    for fname in files:\n",
    "        if(prefix in fname):\n",
    "            print(\"ntra\")\n",
    "            with open(folder+'/'+fname, \"r\") as f:\n",
    "                data = json.load(f)            \n",
    "            network = get_network_name(fname)\n",
    "            maxIter = int(data['maxIter'][0])\n",
    "            pf = str(data['pf'][0])\n",
    "            nhopsPrune = int(data['nhopsPrune'][0])        \n",
    "            for i in range(maxIter):            \n",
    "                 df = pd.DataFrame(data[str(i)].values())             \n",
    "                 if i not in roundData:               \n",
    "                     roundData[i] = []                    \n",
    "                 roundData[i].extend(df[cat].tolist())            \n",
    "    return maxIter, roundData, network, pf"
   ]
  },
  {
   "cell_type": "code",
   "execution_count": 8,
   "metadata": {},
   "outputs": [
    {
     "data": {
      "image/png": "[encoded data removed]",
      "text/plain": [
       "<Figure size 432x288 with 1 Axes>"
      ]
     },
     "metadata": {
      "needs_background": "light"
     },
     "output_type": "display_data"
    }
   ],
   "source": [
    "cat = 'percinfo'\n",
    "maxIter, roundData, network, pf = load_JSON(cat)\n",
    "gen_graph(roundData, maxIter, cat, network, pf)"
   ]
  },
  {
   "cell_type": "code",
   "execution_count": 9,
   "metadata": {},
   "outputs": [
    {
     "data": {
      "image/png": "[encoded data removed]",
      "text/plain": [
       "<Figure size 432x288 with 1 Axes>"
      ]
     },
     "metadata": {
      "needs_background": "light"
     },
     "output_type": "display_data"
    }
   ],
   "source": [
    "cat = 'percinfohop'\n",
    "maxIter, roundData, network, pf = load_JSON(cat)\n",
    "gen_graph(roundData, maxIter, cat, network, pf)"
   ]
  },
  {
   "cell_type": "code",
   "execution_count": 10,
   "metadata": {},
   "outputs": [
    {
     "name": "stdout",
     "output_type": "stream",
     "text": [
      "ntra\n"
     ]
    },
    {
     "data": {
      "image/png": "[encoded data removed]",
      "text/plain": [
       "<Figure size 432x288 with 1 Axes>"
      ]
     },
     "metadata": {
      "needs_background": "light"
     },
     "output_type": "display_data"
    }
   ],
   "source": [
    "#a way to predict which node is going to fail\n",
    "# have a counter of nodes that have info about a node\n",
    "# evaluate betweeness centrality at each step see if we can associate probability of failure in runtime\n",
    "# statistic analysis\n",
    "#number of hops vs some network metric to kwon which information is going to be synch fast\n",
    "cat = 'percinfohop'\n",
    "maxIter, roundData, network, pf = load_JSON2(cat, \"20210921114719\")\n",
    "gen_graph(roundData, maxIter, cat, network, pf)"
   ]
  },
  {
   "cell_type": "code",
   "execution_count": 11,
   "metadata": {},
   "outputs": [
    {
     "name": "stdout",
     "output_type": "stream",
     "text": [
      "ntra\n"
     ]
    },
    {
     "data": {
      "image/png": "[encoded data removed]",
      "text/plain": [
       "<Figure size 432x288 with 1 Axes>"
      ]
     },
     "metadata": {
      "needs_background": "light"
     },
     "output_type": "display_data"
    }
   ],
   "source": [
    "cat = 'percinfo'\n",
    "maxIter, roundData, network, pf = load_JSON2(cat, \"20210921114719\")\n",
    "gen_graph(roundData, maxIter, cat, network, pf)"
   ]
  },
  {
   "cell_type": "code",
   "execution_count": 39,
   "metadata": {},
   "outputs": [
    {
     "name": "stdout",
     "output_type": "stream",
     "text": [
      "processing...exp+ps+0+pf+0.125+mode+FirstNeighbor+maxIter+50+e+2304+v+512+load+replalgon+NODELAY+nhopsinfo+redFactor+3+20210921114738+jsonDataReport.json\n",
      "[10, 6, 6, 5, 4, 5, 5, 8, 9, 10, 10, 10, 9, 8, 7, 8, 7, 6, 5, 5, 2, 1, 2, 1, 2, 2, 1, 0, 0, 0, 0, 0, 0, 0, 0, 0, 0, 0, 0, 0, 0, 0, 0, 0, 0, 0, 0, 0, 0, 0]\n"
     ]
    },
    {
     "data": {
      "image/png": "[encoded data removed]",
      "text/plain": [
       "<Figure size 432x288 with 1 Axes>"
      ]
     },
     "metadata": {
      "needs_background": "light"
     },
     "output_type": "display_data"
    }
   ],
   "source": [
    "import os\n",
    "\n",
    "def gen_graph(roundData, maxIter, cat, network, pf):\n",
    "    x = list(range(maxIter))\n",
    "    avgs = []\n",
    "    medians = []\n",
    "    stdev = []\n",
    "    difsmax = []\n",
    "    difsmin = []\n",
    "    '''\n",
    "    for k in roundData.keys():   \n",
    "        lst = roundData[k]\n",
    "        avg = sum(lst) / len(lst)\n",
    "        med = statistics.median(lst)\n",
    "        medians.append(med)\n",
    "        avgs.append(avg)\n",
    "        var = sum((x-avg)**2 for x in lst) / len(lst)\n",
    "        std = var**0.5\n",
    "        difsmin.append(avg +std)\n",
    "        difsmax.append(avg-std)\n",
    "        stdev.append(stdev)\n",
    "    '''\n",
    "    fig, ax = plt.subplots()\n",
    "    ax.plot(x, roundData, '-')\n",
    "    #plt.ylim(0, 1)\n",
    "    #ax.fill_between(x, difsmin, difsmax, alpha=0.2)\n",
    "    ax.set_xlabel('round number')  # Add an x-label to the axes.\n",
    "    ax.set_ylabel(cat)  # Add a y-label to the axes.\n",
    "    ax.set_title(network + \" pf=\" + pf)  # Add a title to the axes.\n",
    "    #ax.legend()  # Add a legend.\n",
    "\n",
    "def load_JSON3(cat, prefix, id_node):\n",
    "    folder = './jsonDataReport'\n",
    "    roundData = {} \n",
    "    lvals = []\n",
    "    files = os.listdir(folder)\n",
    "    for fname in files:\n",
    "        if(prefix in fname):\n",
    "            print(\"processing...\" + fname)\n",
    "            with open(folder+'/'+fname, \"r\") as f:\n",
    "                data = json.load(f)            \n",
    "            network = get_network_name(fname)\n",
    "            maxIter = int(data['maxIter'][0])\n",
    "            pf = str(data['pf'][0])\n",
    "            nhopsPrune = int(data['nhopsPrune'][0])        \n",
    "            for i in range(maxIter):    \n",
    "                if id_node in data[str(i)]:\n",
    "                    #print(i, data[str(i)][id_node])\n",
    "                    lvals.append(data[str(i)][id_node][\"nneighWithNodeInfo\"])\n",
    "                else:\n",
    "                    lvals.append(0)\n",
    "    print(lvals)\n",
    "    return maxIter, lvals, network, pf\n",
    "\n",
    "\n",
    "'''\n",
    "\n",
    "(0, 1, 0, 1, 1, 0, 0, 0, 0)', '(1, 0, 1, 1, 1, 1, 1, 0, 0)',\n",
    "       '(1, 1, 0, 1, 1, 1, 0, 0, 0)', '(1, 0, 1, 0, 0, 0, 0, 0, 1)',\n",
    "       '(1, 1, 0, 1, 1, 1, 0, 0, 1)\n",
    "'''\n",
    "cat = 'nneighWithNodeInfo'\n",
    "maxIter, roundData, network, pf = load_JSON3(cat, \"20210921114738\", '(1, 1, 0, 1, 1, 1, 0, 0, 1)')\n",
    "gen_graph(roundData, maxIter, cat, network, pf)"
   ]
  },
  {
   "cell_type": "code",
   "execution_count": 15,
   "metadata": {},
   "outputs": [
    {
     "data": {
      "text/html": [
       "<div>\n",
       "<style scoped>\n",
       "    .dataframe tbody tr th:only-of-type {\n",
       "        vertical-align: middle;\n",
       "    }\n",
       "\n",
       "    .dataframe tbody tr th {\n",
       "        vertical-align: top;\n",
       "    }\n",
       "\n",
       "    .dataframe thead th {\n",
       "        text-align: right;\n",
       "    }\n",
       "</style>\n",
       "<table border=\"1\" class=\"dataframe\">\n",
       "  <thead>\n",
       "    <tr style=\"text-align: right;\">\n",
       "      <th></th>\n",
       "      <th>percinfo</th>\n",
       "      <th>nneignhops</th>\n",
       "      <th>sizeinfo</th>\n",
       "      <th>version</th>\n",
       "      <th>nneighWithNodeInfo</th>\n",
       "      <th>status</th>\n",
       "      <th>percinfohop</th>\n",
       "    </tr>\n",
       "  </thead>\n",
       "  <tbody>\n",
       "    <tr>\n",
       "      <th>0</th>\n",
       "      <td>0.017578</td>\n",
       "      <td>10</td>\n",
       "      <td>9</td>\n",
       "      <td>3</td>\n",
       "      <td>10</td>\n",
       "      <td>alive</td>\n",
       "      <td>0.9</td>\n",
       "    </tr>\n",
       "    <tr>\n",
       "      <th>1</th>\n",
       "      <td>0.003906</td>\n",
       "      <td>10</td>\n",
       "      <td>2</td>\n",
       "      <td>4</td>\n",
       "      <td>5</td>\n",
       "      <td>alive</td>\n",
       "      <td>0.2</td>\n",
       "    </tr>\n",
       "    <tr>\n",
       "      <th>2</th>\n",
       "      <td>0.013672</td>\n",
       "      <td>10</td>\n",
       "      <td>7</td>\n",
       "      <td>2</td>\n",
       "      <td>7</td>\n",
       "      <td>alive</td>\n",
       "      <td>0.7</td>\n",
       "    </tr>\n",
       "    <tr>\n",
       "      <th>3</th>\n",
       "      <td>0.019531</td>\n",
       "      <td>10</td>\n",
       "      <td>10</td>\n",
       "      <td>1</td>\n",
       "      <td>9</td>\n",
       "      <td>alive</td>\n",
       "      <td>1.0</td>\n",
       "    </tr>\n",
       "    <tr>\n",
       "      <th>4</th>\n",
       "      <td>0.003906</td>\n",
       "      <td>10</td>\n",
       "      <td>2</td>\n",
       "      <td>2</td>\n",
       "      <td>5</td>\n",
       "      <td>alive</td>\n",
       "      <td>0.2</td>\n",
       "    </tr>\n",
       "  </tbody>\n",
       "</table>\n",
       "</div>"
      ],
      "text/plain": [
       "   percinfo  nneignhops  sizeinfo  version  nneighWithNodeInfo status  \\\n",
       "0  0.017578          10         9        3                  10  alive   \n",
       "1  0.003906          10         2        4                   5  alive   \n",
       "2  0.013672          10         7        2                   7  alive   \n",
       "3  0.019531          10        10        1                   9  alive   \n",
       "4  0.003906          10         2        2                   5  alive   \n",
       "\n",
       "   percinfohop  \n",
       "0          0.9  \n",
       "1          0.2  \n",
       "2          0.7  \n",
       "3          1.0  \n",
       "4          0.2  "
      ]
     },
     "execution_count": 15,
     "metadata": {},
     "output_type": "execute_result"
    }
   ],
   "source": [
    "\n",
    "folder = './jsonDataReport'\n",
    "fname = \"exp+ps+0+pf+0.125+mode+FirstNeighbor+maxIter+50+e+2304+v+512+load+replalgon+NODELAY+nhopsinfo+redFactor+3+20210921114738+jsonDataReport.json\"\n",
    "with open(folder+'/'+fname, \"r\") as f:\n",
    "    data = json.load(f)\n",
    "df = pd.DataFrame(data[str(14)].values())   \n",
    "df.head()"
   ]
  },
  {
   "cell_type": "code",
   "execution_count": 16,
   "metadata": {},
   "outputs": [
    {
     "data": {
      "text/plain": [
       "alive     477\n",
       "failed     35\n",
       "Name: status, dtype: int64"
      ]
     },
     "execution_count": 16,
     "metadata": {},
     "output_type": "execute_result"
    }
   ],
   "source": [
    "df['status'].value_counts()"
   ]
  },
  {
   "cell_type": "code",
   "execution_count": 17,
   "metadata": {},
   "outputs": [
    {
     "data": {
      "text/plain": [
       "dict_keys(['44', '45', '46', '47', '48', '49', '10', '11', '12', '13', '14', '15', '16', '17', '18', '19', '0', '1', '2', '3', '4', '5', '6', '7', '8', '9', '20', '21', 'nhopsPrune', '22', '23', '24', '25', '26', '27', '28', '29', 'maxIter', '30', '31', '32', '33', '34', '35', '36', '37', '38', '39', 'pf', '40', '41', '42', '43'])"
      ]
     },
     "execution_count": 17,
     "metadata": {},
     "output_type": "execute_result"
    }
   ],
   "source": [
    "data.keys()"
   ]
  },
  {
   "cell_type": "markdown",
   "metadata": {},
   "source": [
    "## Neighbours of node that failed"
   ]
  },
  {
   "cell_type": "code",
   "execution_count": null,
   "metadata": {},
   "outputs": [],
   "source": [
    "cat = 'nneighWithNodeInfo'\n",
    "maxIter, roundData, network, pf = load_JSON3(cat, \"20210723194538\", 'p0')\n",
    "gen_graph(roundData, maxIter, cat, network, pf)"
   ]
  },
  {
   "cell_type": "code",
   "execution_count": null,
   "metadata": {},
   "outputs": [],
   "source": [
    "cat = 'nneighWithNodeInfo'\n",
    "maxIter, roundData, network, pf = load_JSON3(cat, \"20210723194538\", 'p49')\n",
    "gen_graph(roundData, maxIter, cat, network, pf)"
   ]
  },
  {
   "cell_type": "code",
   "execution_count": null,
   "metadata": {},
   "outputs": [],
   "source": [
    "cat = 'nneighWithNodeInfo'\n",
    "maxIter, roundData, network, pf = load_JSON3(cat, \"20210723194538\", 'p51')\n",
    "gen_graph(roundData, maxIter, cat, network, pf)"
   ]
  },
  {
   "cell_type": "markdown",
   "metadata": {},
   "source": [
    "## Dataframe creation"
   ]
  },
  {
   "cell_type": "code",
   "execution_count": 18,
   "metadata": {},
   "outputs": [],
   "source": [
    "experiment_events = []\n",
    "for round_number, round_info in data.items():\n",
    "    try:\n",
    "        for node_number, node_info in round_info.items():\n",
    "            event_info = {\n",
    "                'roundNumber': int(round_number),\n",
    "                'nodeNumber': node_number\n",
    "            }\n",
    "            event_info.update(node_info)\n",
    "            experiment_events.append(event_info)\n",
    "    except:\n",
    "        continue"
   ]
  },
  {
   "cell_type": "code",
   "execution_count": 22,
   "metadata": {},
   "outputs": [
    {
     "data": {
      "text/html": [
       "<div>\n",
       "<style scoped>\n",
       "    .dataframe tbody tr th:only-of-type {\n",
       "        vertical-align: middle;\n",
       "    }\n",
       "\n",
       "    .dataframe tbody tr th {\n",
       "        vertical-align: top;\n",
       "    }\n",
       "\n",
       "    .dataframe thead th {\n",
       "        text-align: right;\n",
       "    }\n",
       "</style>\n",
       "<table border=\"1\" class=\"dataframe\">\n",
       "  <thead>\n",
       "    <tr style=\"text-align: right;\">\n",
       "      <th></th>\n",
       "      <th>roundNumber</th>\n",
       "      <th>nodeNumber</th>\n",
       "      <th>percinfo</th>\n",
       "      <th>nneignhops</th>\n",
       "      <th>sizeinfo</th>\n",
       "      <th>version</th>\n",
       "      <th>nneighWithNodeInfo</th>\n",
       "      <th>status</th>\n",
       "      <th>percinfohop</th>\n",
       "    </tr>\n",
       "  </thead>\n",
       "  <tbody>\n",
       "    <tr>\n",
       "      <th>8192</th>\n",
       "      <td>0</td>\n",
       "      <td>(0, 1, 1, 0, 0, 0, 1, 0, 1)</td>\n",
       "      <td>0.019531</td>\n",
       "      <td>10</td>\n",
       "      <td>10</td>\n",
       "      <td>1</td>\n",
       "      <td>10</td>\n",
       "      <td>alive</td>\n",
       "      <td>1.0</td>\n",
       "    </tr>\n",
       "  </tbody>\n",
       "</table>\n",
       "</div>"
      ],
      "text/plain": [
       "      roundNumber                   nodeNumber  percinfo  nneignhops  \\\n",
       "8192            0  (0, 1, 1, 0, 0, 0, 1, 0, 1)  0.019531          10   \n",
       "\n",
       "      sizeinfo  version  nneighWithNodeInfo status  percinfohop  \n",
       "8192        10        1                  10  alive          1.0  "
      ]
     },
     "execution_count": 22,
     "metadata": {},
     "output_type": "execute_result"
    }
   ],
   "source": [
    "df_flattened_exp = pd.DataFrame(experiment_events)\n",
    "df_flattened_exp.sort_values('roundNumber', inplace=True)\n",
    "df_flattened_exp.head(1)"
   ]
  },
  {
   "cell_type": "markdown",
   "metadata": {},
   "source": [
    "## Dataframe null check"
   ]
  },
  {
   "cell_type": "code",
   "execution_count": 29,
   "metadata": {},
   "outputs": [
    {
     "data": {
      "text/plain": [
       "roundNumber           0\n",
       "nodeNumber            0\n",
       "percinfo              0\n",
       "nneignhops            0\n",
       "sizeinfo              0\n",
       "version               0\n",
       "nneighWithNodeInfo    0\n",
       "status                0\n",
       "percinfohop           0\n",
       "dtype: int64"
      ]
     },
     "execution_count": 29,
     "metadata": {},
     "output_type": "execute_result"
    }
   ],
   "source": [
    "df_flattened_exp.isnull().sum()"
   ]
  },
  {
   "cell_type": "code",
   "execution_count": 30,
   "metadata": {},
   "outputs": [],
   "source": [
    "df_failing_node = df_flattened_exp[\n",
    "    df_flattened_exp['nodeNumber'] == 'p65'\n",
    "].copy(deep=True).sort_index()"
   ]
  },
  {
   "cell_type": "code",
   "execution_count": 31,
   "metadata": {},
   "outputs": [
    {
     "data": {
      "text/plain": [
       "<matplotlib.axes._subplots.AxesSubplot at 0x2c94e2d7710>"
      ]
     },
     "execution_count": 31,
     "metadata": {},
     "output_type": "execute_result"
    },
    {
     "data": {
      "image/png": "[encoded data removed]",
      "text/plain": [
       "<Figure size 432x288 with 1 Axes>"
      ]
     },
     "metadata": {
      "needs_background": "light"
     },
     "output_type": "display_data"
    }
   ],
   "source": [
    "df_failing_node.set_index('roundNumber', inplace=True)\n",
    "df_failing_node.sort_index(inplace=True)\n",
    "df_failing_node['nneighWithNodeInfo'].plot()"
   ]
  },
  {
   "cell_type": "code",
   "execution_count": 32,
   "metadata": {},
   "outputs": [
    {
     "ename": "KeyError",
     "evalue": "'p65'",
     "output_type": "error",
     "traceback": [
      "\u001b[1;31m---------------------------------------------------------------------------\u001b[0m",
      "\u001b[1;31mKeyError\u001b[0m                                  Traceback (most recent call last)",
      "\u001b[1;32m<ipython-input-32-7ef49a2b4fa8>\u001b[0m in \u001b[0;36m<module>\u001b[1;34m\u001b[0m\n\u001b[1;32m----> 1\u001b[1;33m \u001b[0mdata\u001b[0m\u001b[1;33m[\u001b[0m\u001b[1;34m'5'\u001b[0m\u001b[1;33m]\u001b[0m\u001b[1;33m[\u001b[0m\u001b[1;34m'p65'\u001b[0m\u001b[1;33m]\u001b[0m\u001b[1;33m\u001b[0m\u001b[1;33m\u001b[0m\u001b[0m\n\u001b[0m",
      "\u001b[1;31mKeyError\u001b[0m: 'p65'"
     ]
    }
   ],
   "source": [
    "data['5']['p65']"
   ]
  },
  {
   "cell_type": "code",
   "execution_count": 33,
   "metadata": {},
   "outputs": [
    {
     "data": {
      "text/plain": [
       "<matplotlib.axes._subplots.AxesSubplot at 0x2c94d5ce908>"
      ]
     },
     "execution_count": 33,
     "metadata": {},
     "output_type": "execute_result"
    },
    {
     "data": {
      "image/png": "[encoded data removed]",
      "text/plain": [
       "<Figure size 432x288 with 1 Axes>"
      ]
     },
     "metadata": {
      "needs_background": "light"
     },
     "output_type": "display_data"
    }
   ],
   "source": [
    "df_failing_node[['percinfohop', 'percinfo']].plot()"
   ]
  },
  {
   "cell_type": "markdown",
   "metadata": {},
   "source": [
    "## Nodes that have more rounds in failure state"
   ]
  },
  {
   "cell_type": "code",
   "execution_count": 34,
   "metadata": {},
   "outputs": [
    {
     "data": {
      "text/html": [
       "<div>\n",
       "<style scoped>\n",
       "    .dataframe tbody tr th:only-of-type {\n",
       "        vertical-align: middle;\n",
       "    }\n",
       "\n",
       "    .dataframe tbody tr th {\n",
       "        vertical-align: top;\n",
       "    }\n",
       "\n",
       "    .dataframe thead th {\n",
       "        text-align: right;\n",
       "    }\n",
       "</style>\n",
       "<table border=\"1\" class=\"dataframe\">\n",
       "  <thead>\n",
       "    <tr style=\"text-align: right;\">\n",
       "      <th></th>\n",
       "      <th>nodeNumber</th>\n",
       "    </tr>\n",
       "  </thead>\n",
       "  <tbody>\n",
       "    <tr>\n",
       "      <th>(1, 0, 1, 0, 0, 0, 0, 0, 1)</th>\n",
       "      <td>43</td>\n",
       "    </tr>\n",
       "    <tr>\n",
       "      <th>(1, 0, 1, 1, 1, 1, 1, 0, 0)</th>\n",
       "      <td>42</td>\n",
       "    </tr>\n",
       "    <tr>\n",
       "      <th>(0, 1, 0, 1, 1, 0, 0, 0, 0)</th>\n",
       "      <td>32</td>\n",
       "    </tr>\n",
       "    <tr>\n",
       "      <th>(1, 1, 0, 1, 1, 1, 0, 0, 1)</th>\n",
       "      <td>31</td>\n",
       "    </tr>\n",
       "    <tr>\n",
       "      <th>(1, 1, 0, 1, 1, 1, 0, 0, 0)</th>\n",
       "      <td>30</td>\n",
       "    </tr>\n",
       "    <tr>\n",
       "      <th>...</th>\n",
       "      <td>...</td>\n",
       "    </tr>\n",
       "    <tr>\n",
       "      <th>(0, 0, 1, 1, 0, 1, 1, 1, 1)</th>\n",
       "      <td>1</td>\n",
       "    </tr>\n",
       "    <tr>\n",
       "      <th>(1, 1, 1, 0, 0, 1, 0, 0, 1)</th>\n",
       "      <td>1</td>\n",
       "    </tr>\n",
       "    <tr>\n",
       "      <th>(0, 1, 0, 1, 1, 0, 0, 1, 0)</th>\n",
       "      <td>1</td>\n",
       "    </tr>\n",
       "    <tr>\n",
       "      <th>(0, 1, 1, 0, 0, 0, 1, 0, 1)</th>\n",
       "      <td>1</td>\n",
       "    </tr>\n",
       "    <tr>\n",
       "      <th>(1, 1, 0, 1, 0, 1, 0, 1, 0)</th>\n",
       "      <td>1</td>\n",
       "    </tr>\n",
       "  </tbody>\n",
       "</table>\n",
       "<p>445 rows × 1 columns</p>\n",
       "</div>"
      ],
      "text/plain": [
       "                             nodeNumber\n",
       "(1, 0, 1, 0, 0, 0, 0, 0, 1)          43\n",
       "(1, 0, 1, 1, 1, 1, 1, 0, 0)          42\n",
       "(0, 1, 0, 1, 1, 0, 0, 0, 0)          32\n",
       "(1, 1, 0, 1, 1, 1, 0, 0, 1)          31\n",
       "(1, 1, 0, 1, 1, 1, 0, 0, 0)          30\n",
       "...                                 ...\n",
       "(0, 0, 1, 1, 0, 1, 1, 1, 1)           1\n",
       "(1, 1, 1, 0, 0, 1, 0, 0, 1)           1\n",
       "(0, 1, 0, 1, 1, 0, 0, 1, 0)           1\n",
       "(0, 1, 1, 0, 0, 0, 1, 0, 1)           1\n",
       "(1, 1, 0, 1, 0, 1, 0, 1, 0)           1\n",
       "\n",
       "[445 rows x 1 columns]"
      ]
     },
     "execution_count": 34,
     "metadata": {},
     "output_type": "execute_result"
    }
   ],
   "source": [
    "df_flattened_exp[df_flattened_exp['status'] == 'failed']['nodeNumber'].value_counts().to_frame()"
   ]
  },
  {
   "cell_type": "markdown",
   "metadata": {},
   "source": [
    "## Nombres de nodos que en la última ronda no estaban vivos"
   ]
  },
  {
   "cell_type": "code",
   "execution_count": 35,
   "metadata": {},
   "outputs": [
    {
     "data": {
      "text/plain": [
       "array(['(0, 1, 0, 1, 1, 0, 0, 0, 0)', '(1, 0, 1, 1, 1, 1, 1, 0, 0)',\n",
       "       '(1, 1, 0, 1, 1, 1, 0, 0, 0)', '(1, 0, 1, 0, 0, 0, 0, 0, 1)',\n",
       "       '(1, 1, 0, 1, 1, 1, 0, 0, 1)'], dtype=object)"
      ]
     },
     "execution_count": 35,
     "metadata": {},
     "output_type": "execute_result"
    }
   ],
   "source": [
    "df_flattened_exp[\n",
    "    (df_flattened_exp['roundNumber'] == df_flattened_exp['roundNumber'].max()) &\n",
    "    (df_flattened_exp['status'] == 'failed')\n",
    "]['nodeNumber'].unique()"
   ]
  },
  {
   "cell_type": "markdown",
   "metadata": {},
   "source": [
    "## Nodes Version\n",
    "\n",
    "Each time that a node fails and it is recreated a new node version is added. "
   ]
  },
  {
   "cell_type": "code",
   "execution_count": 36,
   "metadata": {},
   "outputs": [
    {
     "data": {
      "text/plain": [
       "nodeNumber\n",
       "(1, 0, 0, 0, 0, 0, 1, 1, 1)    9\n",
       "(1, 0, 0, 1, 0, 1, 1, 1, 1)    9\n",
       "(1, 0, 0, 0, 1, 1, 1, 0, 1)    9\n",
       "(1, 1, 1, 0, 0, 1, 0, 1, 1)    8\n",
       "(0, 0, 1, 1, 0, 0, 0, 0, 0)    8\n",
       "                              ..\n",
       "(1, 0, 0, 1, 0, 1, 0, 1, 1)    1\n",
       "(1, 0, 0, 0, 1, 1, 1, 1, 1)    1\n",
       "(0, 1, 1, 1, 0, 0, 0, 0, 0)    1\n",
       "(0, 0, 1, 0, 0, 0, 1, 1, 1)    1\n",
       "(0, 1, 1, 1, 1, 1, 1, 1, 1)    1\n",
       "Name: version, Length: 512, dtype: int64"
      ]
     },
     "execution_count": 36,
     "metadata": {},
     "output_type": "execute_result"
    }
   ],
   "source": [
    "df_flattened_exp.groupby('nodeNumber')['version'].max().sort_values(ascending=False)"
   ]
  },
  {
   "cell_type": "code",
   "execution_count": null,
   "metadata": {},
   "outputs": [],
   "source": []
  },
  {
   "cell_type": "code",
   "execution_count": null,
   "metadata": {},
   "outputs": [],
   "source": []
  }
 ],
 "metadata": {
  "kernelspec": {
   "display_name": "Python 3",
   "language": "python",
   "name": "python3"
  },
  "language_info": {
   "codemirror_mode": {
    "name": "ipython",
    "version": 3
   },
   "file_extension": ".py",
   "mimetype": "text/x-python",
   "name": "python",
   "nbconvert_exporter": "python",
   "pygments_lexer": "ipython3",
   "version": "3.7.3"
  }
 },
 "nbformat": 4,
 "nbformat_minor": 4
}
